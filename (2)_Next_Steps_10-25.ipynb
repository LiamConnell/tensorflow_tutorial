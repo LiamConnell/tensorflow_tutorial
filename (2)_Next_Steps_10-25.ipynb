{
 "cells": [
  {
   "cell_type": "markdown",
   "metadata": {},
   "source": [
    "# Review\n",
    "After the previous presentation we hopefully have a basic understanding of the idea of a tensor and how it is different from data objects in other python/R librarys. We also understand three types of tensors (Constant, Placeholder, Variable) and their properties. \n",
    "\n",
    "To reinforce this, I'll provide some definitions from the TensorFlow website's \"Programmer's Guide\":\n",
    "\n",
    "* TensorFlow programs work by first building a graph of `tf.Tensor` objects, detailing how each tensor is computed based on the other available tensors and then by running parts of this graph to achieve the desired results.\n",
    "* A **`tf.Tensor`** object represents a partially defined computation that will eventually produce a value. \n",
    "    + It has properties: \n",
    "        - data type (float32, int32, or string, for example)  \n",
    "        - shape (the number of dimensions it has and the size of each dimension) \n",
    "    + The data type must be defined and consistent across elements, but the shape might be only partially known\n",
    "* A `tf.placeholder` object is passed data at runtime, usually as \"input\" and \"target\" dat\n",
    "* A `tf.Variable` is defined with the function `tf.get_variable(\"name\", shape, [dtype=implied, initializer=glorot_uniform_initializer, trainable=TRUE, collections=])`\n",
    "    + must be initialized before runtime, usually with `tf.global_variables_initializer()`\n",
    "    + in the future we will see: can be placed in a specific device, `tf.variable_scope` used for reusing variables defined in functions\n",
    "    \n",
    "Furthermore, we defined the three modules that will be defined in all of our ML projects: Model, Loss Function, Optimizer"
   ]
  },
  {
   "cell_type": "markdown",
   "metadata": {},
   "source": [
    "# next steps:\n",
    "\n",
    "Demonstrate other APIs and functionality using increasingly sophisticated problems and working throught the new functions:\n",
    "\n",
    "* Key concepts: \n",
    "    * Data Preprocessing\n",
    "        * Data normalization\n",
    "        * PCA and whitening\n",
    "    * Softmax Classifier\n",
    "    * Backprop Math\n",
    "    * Loss functions\n",
    "        * Classification\n",
    "        * Regression\n",
    "    * gradient check\n",
    "    * Sanity checks and best practices\n",
    "* API functionality:\n",
    "    * Dataset API and Iterator\n",
    "    * Dataflow, Tensorboard, Summary statistics\n",
    "    * Word Embeddings\n",
    "    * Saving and restoring models\n",
    "    * Estimator (high level API)\n",
    "* Neural Net Structures:\n",
    "    * Convolutions\n",
    "    * LSTM\n",
    "    * AutoEncoders, RBMs, Deep Belief Nets\n",
    "    * Reinforcement Learning\n",
    "    * Solutions to overfitting: Regularization (L1, L2), Max Norm Constraints, Dropout\n",
    "    * Other learning algorithms: AdaGrad, RMS Prop, Ada Delta...\n",
    "    * Support Vector Machines"
   ]
  },
  {
   "cell_type": "code",
   "execution_count": null,
   "metadata": {
    "collapsed": true
   },
   "outputs": [],
   "source": []
  }
 ],
 "metadata": {
  "anaconda-cloud": {},
  "kernelspec": {
   "display_name": "Python [Root]",
   "language": "python",
   "name": "Python [Root]"
  },
  "language_info": {
   "codemirror_mode": {
    "name": "ipython",
    "version": 3
   },
   "file_extension": ".py",
   "mimetype": "text/x-python",
   "name": "python",
   "nbconvert_exporter": "python",
   "pygments_lexer": "ipython3",
   "version": "3.5.2"
  }
 },
 "nbformat": 4,
 "nbformat_minor": 0
}
