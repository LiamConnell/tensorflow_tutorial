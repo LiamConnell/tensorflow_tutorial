{
 "cells": [
  {
   "cell_type": "markdown",
   "metadata": {},
   "source": [
    "# Intro and *Invocación Para Ponerse las Pilas*\n",
    "\n",
    "Now that we have learned a bit about Tensorflow and its function as a Deep Learning library, we will jump into the deep end and force ourselves to swim. The next several lessons will be explanations of fully functional tensorflow code in several applications. We will continue to explain all high level functions with low-level code, before accepting it, especially when it comes to mathematical transformations. \n",
    "\n",
    "We're jumping way ahead of our last lesson and will be hit with a lot of information right now, so I ask you to *ponerse las pilas*!"
   ]
  },
  {
   "cell_type": "markdown",
   "metadata": {},
   "source": [
    "Here's a quick outline of all the things that we will do. Note that there is some code early on that we will eventually discard for the sake of using best practices, but which we show initially for demonstration.\n",
    "\n",
    "* Intro to a dataset object and exploring the MNIST data\n",
    "* Train a neural network classifier to recognize handwritten digits in the MNIST\n",
    "    * TF graph defined in global namespace"
   ]
  },
  {
   "cell_type": "markdown",
   "metadata": {},
   "source": [
    "# MNIST handwritten dataset Intro\n",
    "\n",
    "This is a very common dataset that is often used as a \"hello world\" trivial introduction to Machine Learning image processing. It was created by the great Yann Lecunn years ago as a demonstration of convolution neural networks and we will use it for the same purpose. "
   ]
  },
  {
   "cell_type": "code",
   "execution_count": 1,
   "metadata": {
    "collapsed": false
   },
   "outputs": [
    {
     "name": "stdout",
     "output_type": "stream",
     "text": [
      "Populating the interactive namespace from numpy and matplotlib\n"
     ]
    }
   ],
   "source": [
    "import tensorflow as tf\n",
    "import pandas as pd\n",
    "import numpy as np\n",
    "import pandas_datareader.data as web\n",
    "%pylab inline\n",
    "import matplotlib.pyplot as plt"
   ]
  },
  {
   "cell_type": "markdown",
   "metadata": {},
   "source": [
    "## explore data and learn about Datasets object"
   ]
  },
  {
   "cell_type": "code",
   "execution_count": 2,
   "metadata": {
    "collapsed": false
   },
   "outputs": [
    {
     "name": "stdout",
     "output_type": "stream",
     "text": [
      "Extracting MNIST_data/train-images-idx3-ubyte.gz\n",
      "Extracting MNIST_data/train-labels-idx1-ubyte.gz\n",
      "Extracting MNIST_data/t10k-images-idx3-ubyte.gz\n",
      "Extracting MNIST_data/t10k-labels-idx1-ubyte.gz\n"
     ]
    }
   ],
   "source": [
    "from tensorflow.examples.tutorials.mnist import input_data\n",
    "mnist = input_data.read_data_sets('MNIST_data', one_hot=True)\n",
    "# not sure why this code works the second time I run it"
   ]
  },
  {
   "cell_type": "code",
   "execution_count": 3,
   "metadata": {
    "collapsed": false
   },
   "outputs": [
    {
     "data": {
      "text/plain": [
       "Datasets(train=<tensorflow.contrib.learn.python.learn.datasets.mnist.DataSet object at 0x11bec7320>, validation=<tensorflow.contrib.learn.python.learn.datasets.mnist.DataSet object at 0x11bec72e8>, test=<tensorflow.contrib.learn.python.learn.datasets.mnist.DataSet object at 0x11bec7390>)"
      ]
     },
     "execution_count": 3,
     "metadata": {},
     "output_type": "execute_result"
    }
   ],
   "source": [
    "mnist # this is a Datasets object from the Datasets API"
   ]
  },
  {
   "cell_type": "code",
   "execution_count": 4,
   "metadata": {
    "collapsed": false
   },
   "outputs": [
    {
     "name": "stdout",
     "output_type": "stream",
     "text": [
      "(10, 784)\n",
      "(10, 10)\n"
     ]
    }
   ],
   "source": [
    "print(mnist.train.next_batch(10)[0].shape) # 784 = 28^2\n",
    "print(mnist.train.next_batch(10)[1].shape) # one hot vector of numbers -> 0,1,2,3,4"
   ]
  },
  {
   "cell_type": "code",
   "execution_count": 5,
   "metadata": {
    "collapsed": false
   },
   "outputs": [],
   "source": [
    "d = mnist.train.next_batch(1)\n",
    "i = d[0].reshape([28,28])\n",
    "a= d[1]"
   ]
  },
  {
   "cell_type": "code",
   "execution_count": 6,
   "metadata": {
    "collapsed": false
   },
   "outputs": [
    {
     "data": {
      "text/plain": [
       "<matplotlib.image.AxesImage at 0x128d5f6d8>"
      ]
     },
     "execution_count": 6,
     "metadata": {},
     "output_type": "execute_result"
    },
    {
     "data": {
      "image/png": "[encoded data removed]",
      "text/plain": [
       "<matplotlib.figure.Figure at 0x11bec7cf8>"
      ]
     },
     "metadata": {},
     "output_type": "display_data"
    }
   ],
   "source": [
    "plt.gray()\n",
    "plt.imshow(i)"
   ]
  },
  {
   "cell_type": "code",
   "execution_count": 7,
   "metadata": {
    "collapsed": false
   },
   "outputs": [
    {
     "data": {
      "text/plain": [
       "array([[ 1.,  0.,  0.,  0.,  0.,  0.,  0.,  0.,  0.,  0.]])"
      ]
     },
     "execution_count": 7,
     "metadata": {},
     "output_type": "execute_result"
    }
   ],
   "source": [
    "a"
   ]
  },
  {
   "cell_type": "markdown",
   "metadata": {},
   "source": [
    "## Make a Model"
   ]
  },
  {
   "cell_type": "markdown",
   "metadata": {},
   "source": [
    "Lets start with a slightly messy implimentation of this simple problem. Here all the code is basically written out as global variables and we dont handle variable definitions well. If our model were more complex this code would be very messy; however, it helps us to see all the moving parts layed out on the floor the first time through."
   ]
  },
  {
   "cell_type": "code",
   "execution_count": 369,
   "metadata": {
    "collapsed": true
   },
   "outputs": [],
   "source": [
    "tf.reset_default_graph() "
   ]
  },
  {
   "cell_type": "code",
   "execution_count": 370,
   "metadata": {
    "collapsed": true
   },
   "outputs": [],
   "source": [
    "img_dim1 = 28\n",
    "img_dim2 = 28\n",
    "num_classes = 10\n",
    "\n",
    "n_input = img_dim1 * img_dim2\n",
    "n_hidden_1 = 10 # 1st layer number of features\n",
    "n_hidden_2 = 10 # 2nd layer number of features\n",
    "n_out = num_classes # out dim"
   ]
  },
  {
   "cell_type": "code",
   "execution_count": 371,
   "metadata": {
    "collapsed": false
   },
   "outputs": [],
   "source": [
    "# define placeholders\n",
    "X = tf.placeholder(dtype=tf.float32, shape = [None, 784])\n",
    "Y = tf.placeholder(dtype=tf.float64, shape = [None, 10])    \n",
    "\n",
    "# define variables\n",
    "weights = {\n",
    "    'h1': tf.Variable(tf.random_normal([n_input, n_hidden_1])),\n",
    "    'h2': tf.Variable(tf.random_normal([n_hidden_1, n_hidden_2])),\n",
    "    'out': tf.Variable(tf.random_normal([n_hidden_2, n_out]))\n",
    "}\n",
    "biases = {\n",
    "    'b1': tf.Variable(tf.random_normal([n_hidden_1])),\n",
    "    'b2': tf.Variable(tf.random_normal([n_hidden_2])),\n",
    "    'out': tf.Variable(tf.random_normal([n_out]))\n",
    "}\n",
    "\n",
    "# define model\n",
    "def multilayer_perceptron(x, weights, biases):\n",
    "    # Hidden layer with RELU activation\n",
    "    layer_1 = tf.add(tf.matmul(x, weights['h1']), biases['b1'])\n",
    "    layer_1 = tf.nn.relu(layer_1)  # ReLU non-linearity stops linear functions from collapsing into a single linear function!\n",
    "    # Hidden layer with RELU activation\n",
    "    layer_2 = tf.add(tf.matmul(layer_1, weights['h2']), biases['b2'])\n",
    "    layer_2 = tf.nn.relu(layer_2)\n",
    "    # Output layer with linear activation\n",
    "    out_layer = tf.matmul(layer_2, weights['out']) + biases['out']\n",
    "    return out_layer\n",
    "\n",
    "# Construct model\n",
    "model = multilayer_perceptron(X, weights, biases)"
   ]
  },
  {
   "cell_type": "code",
   "execution_count": 372,
   "metadata": {
    "collapsed": true
   },
   "outputs": [],
   "source": [
    "# define loss: softmax cross entropy\n",
    "loss = tf.reduce_mean(tf.nn.softmax_cross_entropy_with_logits(labels = Y, logits = model))"
   ]
  },
  {
   "cell_type": "code",
   "execution_count": 373,
   "metadata": {
    "collapsed": false
   },
   "outputs": [],
   "source": [
    "# define optimizer\n",
    "optimizer = tf.train.GradientDescentOptimizer(.001)\n",
    "train = optimizer.minimize(loss)"
   ]
  },
  {
   "cell_type": "code",
   "execution_count": 374,
   "metadata": {
    "collapsed": true
   },
   "outputs": [],
   "source": [
    "# create session and initialize variables\n",
    "sess = tf.Session()\n",
    "init = tf.global_variables_initializer()\n",
    "sess.run(init)"
   ]
  },
  {
   "cell_type": "code",
   "execution_count": 375,
   "metadata": {
    "collapsed": false
   },
   "outputs": [
    {
     "name": "stdout",
     "output_type": "stream",
     "text": [
      "60.1083\n",
      "3.5916\n",
      "3.5458\n",
      "2.94452\n",
      "2.82686\n"
     ]
    }
   ],
   "source": [
    "# iterate over training step and log the loss function over time\n",
    "losses = []\n",
    "for i in range(5000):\n",
    "    data = mnist.train.next_batch(100)\n",
    "    sess.run(train, {X: data[0], Y: data[1]})\n",
    "    if (i % 100 == 0) :\n",
    "        l = sess.run(loss, {X: data[0], Y: data[1]})\n",
    "        losses.append(l)\n",
    "        if i%1000==0:\n",
    "            print(l)\n",
    "      "
   ]
  },
  {
   "cell_type": "markdown",
   "metadata": {},
   "source": [
    "As training progresses we can see our loss function decreasing. This function is very useful for seeing how our model is doing in training\n"
   ]
  },
  {
   "cell_type": "code",
   "execution_count": 38,
   "metadata": {
    "collapsed": false
   },
   "outputs": [
    {
     "data": {
      "text/plain": [
       "[<matplotlib.lines.Line2D at 0x126f3bc88>]"
      ]
     },
     "execution_count": 38,
     "metadata": {},
     "output_type": "execute_result"
    },
    {
     "data": {
      "image/png": "[encoded data removed]",
      "text/plain": [
       "<matplotlib.figure.Figure at 0x126eb4e80>"
      ]
     },
     "metadata": {},
     "output_type": "display_data"
    }
   ],
   "source": [
    "plt.plot(losses)"
   ]
  },
  {
   "cell_type": "code",
   "execution_count": 45,
   "metadata": {
    "collapsed": false
   },
   "outputs": [
    {
     "name": "stdout",
     "output_type": "stream",
     "text": [
      "Percentage correct: 51.0\n"
     ]
    }
   ],
   "source": [
    "# get results of model compared to target (Y).\n",
    "dense = tf.argmax(Y, axis=1)\n",
    "dense2 = tf.argmax(model, axis=1)\n",
    "\n",
    "target = sess.run(dense, {X: data[0], Y: data[1]})\n",
    "predict = sess.run(dense2, {X: data[0], Y: data[1]})\n",
    "result = mean(target == predict)*100\n",
    "print('Percentage correct: {}'.format(result))"
   ]
  },
  {
   "cell_type": "code",
   "execution_count": 47,
   "metadata": {
    "collapsed": true
   },
   "outputs": [],
   "source": [
    "tf.reset_default_graph() "
   ]
  },
  {
   "cell_type": "markdown",
   "metadata": {},
   "source": [
    "# Variable Scope\n",
    "\n",
    "If we define a variable from within a function we begin to run into problems. We need variables to have unique names in our graph. This problem is resolved by using variable scopes. "
   ]
  },
  {
   "cell_type": "code",
   "execution_count": 48,
   "metadata": {
    "collapsed": true
   },
   "outputs": [],
   "source": [
    "# Define placeholders first\n",
    "X = tf.placeholder(dtype=tf.float32, shape = [None, 784])\n",
    "Y = tf.placeholder(dtype=tf.float64, shape = [None, 10])    "
   ]
  },
  {
   "cell_type": "code",
   "execution_count": 49,
   "metadata": {
    "collapsed": true
   },
   "outputs": [],
   "source": [
    "# We define a function that we will reuse for each fully connected layer. \n",
    "def fully_connected_relu(input, output_dim, relu=True):\n",
    "    input_dim = input.get_shape().as_list()[1]\n",
    "    weights = tf.get_variable(\"weights\",shape=[input_dim, output_dim])\n",
    "    biases = tf.get_variable(\"biases\", shape=[output_dim])\n",
    "    out = tf.add(tf.matmul(input, weights), biases)\n",
    "    if relu:\n",
    "        out = tf.nn.relu(out)\n",
    "    return out"
   ]
  },
  {
   "cell_type": "raw",
   "metadata": {},
   "source": [
    "# This code would fail:\n",
    "layer1 = fully_connected_relu(X, 10)\n",
    "layer2 = fully_connected_relu(layer1, 10)\n",
    "out = fully_connected_relu(layer2, 10, relu=False)"
   ]
  },
  {
   "cell_type": "code",
   "execution_count": 50,
   "metadata": {
    "collapsed": false
   },
   "outputs": [],
   "source": [
    "# we solve the problem by calling the function from separate variable scopes:\n",
    "with tf.variable_scope(\"fconn1\"):\n",
    "    layer1 = fully_connected_relu(X, 10)\n",
    "with tf.variable_scope(\"fconn2\"):\n",
    "    layer2 = fully_connected_relu(layer1, 10)\n",
    "with tf.variable_scope(\"out\"):\n",
    "    out = fully_connected_relu(layer2, 10, relu=False)"
   ]
  },
  {
   "cell_type": "code",
   "execution_count": 27,
   "metadata": {
    "collapsed": false
   },
   "outputs": [],
   "source": [
    "sess = tf.Session()\n",
    "init = tf.global_variables_initializer()\n",
    "sess.run(init)\n"
   ]
  },
  {
   "cell_type": "code",
   "execution_count": 22,
   "metadata": {
    "collapsed": false,
    "scrolled": true
   },
   "outputs": [
    {
     "data": {
      "text/plain": [
       "array([[ -1.13592327e-01,   5.40731370e-01,  -4.53934968e-02,\n",
       "         -2.51842409e-01,  -1.62925363e-01,   2.20705271e-01,\n",
       "         -8.29263389e-01,   1.87850088e-01,  -3.79763842e-02,\n",
       "          5.99137247e-01],\n",
       "       [ -7.03424513e-02,   3.99404824e-01,  -6.16735816e-02,\n",
       "         -3.76412868e-01,   1.11092061e-01,  -9.40153003e-03,\n",
       "         -1.28008115e+00,   3.43054712e-01,  -9.45927203e-02,\n",
       "          7.81403780e-01],\n",
       "       [  1.47356912e-01,   2.49533758e-01,  -2.21233130e-01,\n",
       "         -3.02651167e-01,  -6.91851974e-03,   1.73129559e-01,\n",
       "         -8.92323017e-01,   4.12981778e-01,  -2.60015905e-01,\n",
       "          5.61587095e-01],\n",
       "       [  2.49858499e-01,   1.16952240e-01,  -2.51797765e-01,\n",
       "         -1.35159224e-01,   4.15011346e-02,   2.87272543e-01,\n",
       "         -1.14785016e+00,  -2.80248880e-01,  -2.83178389e-01,\n",
       "          8.68633270e-01],\n",
       "       [  1.52379096e-01,   1.97381273e-01,  -1.66648835e-01,\n",
       "         -4.33311105e-01,  -5.20137846e-02,   2.21486852e-01,\n",
       "         -1.02502000e+00,   3.14794362e-01,  -2.09548250e-01,\n",
       "          7.22333431e-01],\n",
       "       [  1.21965066e-01,   2.15902179e-01,  -1.43669009e-01,\n",
       "         -4.55732942e-01,  -3.58569920e-02,   1.94188982e-01,\n",
       "         -1.07904541e+00,   3.28764290e-01,  -1.85571223e-01,\n",
       "          7.50362694e-01],\n",
       "       [  1.80735186e-01,   1.38586015e-01,  -1.65130854e-01,\n",
       "         -4.67301428e-01,  -3.00019979e-04,   1.94377869e-01,\n",
       "         -1.16807425e+00,   2.47747302e-01,  -2.21429855e-01,\n",
       "          8.22189987e-01],\n",
       "       [  2.34461755e-01,   1.68181419e-01,  -2.55000442e-01,\n",
       "         -3.12319726e-01,  -7.13782534e-02,   2.71112919e-01,\n",
       "         -8.23758721e-01,   3.19340944e-01,  -2.99476057e-01,\n",
       "          5.75821757e-01],\n",
       "       [  2.32589588e-01,   1.23197019e-01,  -2.31412977e-01,\n",
       "         -3.67315859e-01,   1.66380703e-02,   1.99831441e-01,\n",
       "         -1.05113792e+00,   2.63588488e-01,  -2.90820003e-01,\n",
       "          7.15743423e-01],\n",
       "       [  1.62395820e-01,   2.10518420e-01,  -1.97190210e-01,\n",
       "         -1.58519775e-01,   4.52255607e-02,   2.15198651e-01,\n",
       "         -1.16442239e+00,  -2.11500645e-01,  -2.37282589e-01,\n",
       "          8.46179366e-01],\n",
       "       [  7.41184354e-02,   2.50950038e-01,  -1.32449865e-01,\n",
       "         -2.38319531e-01,   1.08900696e-01,   1.33590668e-01,\n",
       "         -1.35330987e+00,  -1.42535746e-01,  -1.61347866e-01,\n",
       "          9.45119083e-01],\n",
       "       [  2.11386859e-01,   2.09002465e-01,  -2.77667642e-01,\n",
       "         -2.37688288e-01,  -3.87251377e-03,   1.98449880e-01,\n",
       "         -8.10560346e-01,   3.90690923e-01,  -3.22086692e-01,\n",
       "          5.02567351e-01],\n",
       "       [  2.83374637e-01,   3.55234742e-03,  -1.79244891e-01,\n",
       "         -5.39440989e-01,  -2.89281309e-02,   2.73934096e-01,\n",
       "         -1.25850427e+00,   8.23156834e-02,  -2.52622277e-01,\n",
       "          9.59928572e-01],\n",
       "       [  2.22212806e-01,   1.35729194e-01,  -2.14745641e-01,\n",
       "         -3.93999457e-01,  -3.54471654e-02,   2.39953458e-01,\n",
       "         -1.00648713e+00,   2.63879955e-01,  -2.67714500e-01,\n",
       "          7.12900639e-01],\n",
       "       [  1.52876332e-01,   1.43014655e-01,  -1.37263715e-01,\n",
       "         -5.04171014e-01,   3.50777507e-02,   1.53140217e-01,\n",
       "         -1.27625263e+00,   2.44346052e-01,  -1.96451008e-01,\n",
       "          8.85841131e-01],\n",
       "       [  2.19188482e-01,   1.21272057e-01,  -2.02414170e-01,\n",
       "         -4.20089543e-01,  -1.16765499e-02,   2.20142379e-01,\n",
       "         -1.08487391e+00,   2.42999256e-01,  -2.59818494e-01,\n",
       "          7.65684128e-01],\n",
       "       [ -7.10886121e-02,   4.95844334e-01,  -6.51786923e-02,\n",
       "         -2.17572257e-01,  -1.41185030e-01,   2.30289638e-01,\n",
       "         -8.78134251e-01,   6.04251325e-02,  -6.77251518e-02,\n",
       "          6.48579597e-01],\n",
       "       [  6.64336681e-02,   3.29192877e-01,  -1.83820784e-01,\n",
       "         -2.93949544e-01,   1.66388452e-01,  -1.59385800e-03,\n",
       "         -1.09850287e+00,   4.91925538e-01,  -2.28742868e-01,\n",
       "          6.01173282e-01],\n",
       "       [  1.21020138e-01,   3.31217736e-01,  -2.21255898e-01,\n",
       "         -2.36010790e-01,  -1.38833046e-01,   2.76125550e-01,\n",
       "         -6.33213103e-01,   4.03610677e-01,  -2.37694353e-01,\n",
       "          4.28537697e-01],\n",
       "       [  6.84578121e-02,   3.60643566e-01,  -1.80998474e-01,\n",
       "         -3.08369994e-01,  -8.53342712e-02,   2.02954277e-01,\n",
       "         -7.45551169e-01,   5.14108658e-01,  -1.97112396e-01,\n",
       "          4.67535675e-01],\n",
       "       [  2.74319917e-01,   1.20680660e-01,  -2.77938545e-01,\n",
       "         -3.01071316e-01,  -3.32366228e-02,   2.58308768e-01,\n",
       "         -8.76902819e-01,   2.76608527e-01,  -3.32648605e-01,\n",
       "          6.06589019e-01],\n",
       "       [ -9.80545878e-02,   4.37590450e-01,  -2.04666555e-02,\n",
       "         -5.14039874e-01,  -8.10468271e-02,   1.26088500e-01,\n",
       "         -1.04627740e+00,   5.38369358e-01,  -2.69486010e-02,\n",
       "          6.89892113e-01],\n",
       "       [  2.34544963e-01,   1.80842593e-01,  -3.03224951e-01,\n",
       "         -2.04024553e-01,   6.78870678e-02,   1.47776872e-01,\n",
       "         -8.78977895e-01,   3.77977431e-01,  -3.58088046e-01,\n",
       "          5.15554965e-01],\n",
       "       [ -1.21645987e-01,   5.59972048e-01,  -5.21861017e-02,\n",
       "         -2.11297095e-01,  -1.51723132e-01,   2.09302470e-01,\n",
       "         -8.11653614e-01,   1.73479676e-01,  -4.37081456e-02,\n",
       "          5.75879097e-01],\n",
       "       [  2.52052844e-02,   3.72772276e-01,  -1.41734153e-01,\n",
       "         -3.59674215e-01,  -7.57087618e-02,   1.73460677e-01,\n",
       "         -8.42224956e-01,   5.18100858e-01,  -1.56941816e-01,\n",
       "          5.33408403e-01],\n",
       "       [  1.46482244e-01,   2.85346150e-01,  -2.37073869e-01,\n",
       "         -2.63304114e-01,  -7.47937560e-02,   2.27134243e-01,\n",
       "         -7.21226692e-01,   4.56216127e-01,  -2.64202148e-01,\n",
       "          4.56930250e-01],\n",
       "       [  1.31923169e-01,   2.11443320e-01,  -1.40073985e-01,\n",
       "         -4.58954126e-01,  -6.02464378e-02,   2.24741176e-01,\n",
       "         -1.06286252e+00,   2.82557011e-01,  -1.81261867e-01,\n",
       "          7.62838304e-01],\n",
       "       [  2.27702230e-01,   1.75919920e-01,  -2.50758648e-01,\n",
       "         -2.15903193e-01,  -1.36274695e-02,   2.40408570e-01,\n",
       "         -9.42111969e-01,   7.50817657e-02,  -3.04319084e-01,\n",
       "          6.64226711e-01],\n",
       "       [  1.12566054e-02,   5.48497200e-01,  -2.40894258e-02,\n",
       "         -3.88672709e-01,  -1.15134537e-01,   1.31019056e-01,\n",
       "         -7.75036454e-01,   4.66644585e-01,  -7.00025856e-02,\n",
       "          5.56833029e-01],\n",
       "       [  1.32884324e-01,   2.03576267e-01,  -1.38667151e-01,\n",
       "         -4.40146416e-01,  -4.74386215e-02,   2.18589574e-01,\n",
       "         -1.10575008e+00,   2.11031765e-01,  -1.83222279e-01,\n",
       "          7.97875881e-01],\n",
       "       [  7.93260187e-02,   2.59925425e-01,  -9.24491286e-02,\n",
       "         -5.23951352e-01,  -1.52340278e-01,   2.75790751e-01,\n",
       "         -9.94750738e-01,   3.32659274e-01,  -1.17934868e-01,\n",
       "          7.53610134e-01],\n",
       "       [  1.27114758e-01,   2.48736411e-01,  -1.52657703e-01,\n",
       "         -4.26353097e-01,  -1.46746039e-01,   2.90811300e-01,\n",
       "         -8.75067949e-01,   3.30542028e-01,  -1.80009931e-01,\n",
       "          6.54405236e-01],\n",
       "       [  2.81415462e-01,   8.51915479e-02,  -2.45761409e-01,\n",
       "         -3.36108565e-01,  -3.58495414e-02,   2.78752029e-01,\n",
       "         -1.01164019e+00,   9.53351557e-02,  -3.08063716e-01,\n",
       "          7.48327613e-01],\n",
       "       [ -3.45700979e-03,   3.42465639e-01,  -7.25910664e-02,\n",
       "         -4.90834177e-01,  -6.56184256e-02,   1.58835813e-01,\n",
       "         -1.05682981e+00,   4.47522283e-01,  -9.39163566e-02,\n",
       "          7.15814650e-01],\n",
       "       [ -3.43200564e-02,   3.84337723e-01,  -6.63800538e-02,\n",
       "         -4.73394662e-01,  -6.94087967e-02,   1.45564988e-01,\n",
       "         -1.01630104e+00,   4.96183932e-01,  -8.12682211e-02,\n",
       "          6.71951950e-01],\n",
       "       [ -1.06084645e-01,   4.51001704e-01,  -2.17887461e-02,\n",
       "         -5.02735853e-01,  -8.00704286e-02,   1.20573223e-01,\n",
       "         -1.02831995e+00,   5.55889606e-01,  -2.63743401e-02,\n",
       "          6.70030594e-01],\n",
       "       [  1.16476431e-01,   1.87159151e-01,  -1.22583494e-01,\n",
       "         -5.00441730e-01,   2.17125416e-02,   1.45981640e-01,\n",
       "         -1.24043489e+00,   2.90353060e-01,  -1.74212337e-01,\n",
       "          8.52349997e-01],\n",
       "       [ -2.09302902e-02,   4.28328842e-01,  -8.34214687e-02,\n",
       "         -3.52580547e-01,  -1.86470866e-01,   2.67547369e-01,\n",
       "         -8.04251909e-01,   3.06016207e-01,  -8.53986740e-02,\n",
       "          5.97558379e-01],\n",
       "       [  6.91964179e-02,   2.41330594e-01,  -8.79101455e-02,\n",
       "         -5.30577898e-01,  -4.43551838e-02,   1.79655358e-01,\n",
       "         -1.17007935e+00,   3.31799030e-01,  -1.25889584e-01,\n",
       "          8.25742066e-01],\n",
       "       [ -1.10501468e-01,   4.14126039e-01,   2.69639492e-03,\n",
       "         -5.56713164e-01,  -1.13414526e-02,   6.41220212e-02,\n",
       "         -1.22243035e+00,   5.07176876e-01,  -1.38704777e-02,\n",
       "          7.93763459e-01],\n",
       "       [  8.20327401e-02,   3.04578394e-01,  -1.79627866e-01,\n",
       "         -3.32146555e-01,   5.89266419e-04,   1.36130810e-01,\n",
       "         -9.35361862e-01,   4.62146044e-01,  -2.11449713e-01,\n",
       "          5.75836122e-01],\n",
       "       [ -1.06912345e-01,   4.42707777e-01,  -3.03593278e-03,\n",
       "         -5.44461131e-01,  -1.17000900e-01,   1.53681964e-01,\n",
       "         -1.03381968e+00,   5.31235695e-01,  -5.65639138e-03,\n",
       "          7.04458714e-01],\n",
       "       [ -1.94825441e-01,   5.71802974e-01,   3.33368778e-03,\n",
       "         -3.72288883e-01,  -5.80771714e-02,   7.61586428e-02,\n",
       "         -1.01194370e+00,   4.44654852e-01,   9.47439671e-03,\n",
       "          6.36636972e-01],\n",
       "       [  9.66190398e-02,   1.68087900e-01,  -1.01828128e-01,\n",
       "         -5.30794442e-01,   1.26895905e-01,   4.98374701e-02,\n",
       "         -1.45279264e+00,   2.70677805e-01,  -1.66121781e-01,\n",
       "          9.59170341e-01],\n",
       "       [  4.83712554e-03,   4.26759183e-01,  -1.32769376e-01,\n",
       "         -2.18366086e-01,  -1.06292978e-01,   2.17844024e-01,\n",
       "         -8.14726949e-01,   2.14980036e-01,  -1.44138858e-01,\n",
       "          5.63702464e-01],\n",
       "       [  3.63010466e-01,  -5.81705570e-03,  -3.61032963e-01,\n",
       "         -6.44406080e-02,   1.58736348e-01,   2.66107917e-01,\n",
       "         -1.18142128e+00,  -2.18277574e-01,  -3.88102442e-01,\n",
       "          8.39784026e-01],\n",
       "       [  4.36623693e-02,   3.47275734e-01,  -1.16267219e-01,\n",
       "         -4.25284505e-01,  -1.78737447e-01,   2.75677741e-01,\n",
       "         -8.00400376e-01,   4.34180766e-01,  -1.26531526e-01,\n",
       "          5.85301757e-01],\n",
       "       [  1.59061551e-02,   3.94660652e-01,  -1.27452716e-01,\n",
       "         -3.41617227e-01,  -1.34178981e-01,   2.27468818e-01,\n",
       "         -7.88365901e-01,   4.26861882e-01,  -1.36182904e-01,\n",
       "          5.38171530e-01],\n",
       "       [  5.33826202e-02,   2.13331118e-01,  -2.32003033e-02,\n",
       "         -6.63035929e-01,  -9.95999128e-02,   2.26251751e-01,\n",
       "         -1.28439248e+00,   2.57362396e-01,  -6.09232485e-02,\n",
       "          9.71284688e-01],\n",
       "       [  9.14690197e-02,   3.17087650e-01,  -1.55425519e-01,\n",
       "         -2.76310325e-01,  -1.18746109e-01,   2.69186616e-01,\n",
       "         -8.67114067e-01,   1.43519431e-01,  -1.80484653e-01,\n",
       "          6.42585397e-01],\n",
       "       [  2.13408798e-01,   1.07342228e-01,  -2.05917895e-01,\n",
       "         -4.08498824e-01,   8.74517858e-02,   1.33490801e-01,\n",
       "         -1.22518516e+00,   2.40890801e-01,  -2.74417520e-01,\n",
       "          8.14745486e-01],\n",
       "       [  6.92893416e-02,   2.38471523e-01,  -8.51865858e-02,\n",
       "         -5.05071044e-01,  -2.40062177e-02,   1.69769019e-01,\n",
       "         -1.22017956e+00,   2.46068403e-01,  -1.27052680e-01,\n",
       "          8.64610195e-01],\n",
       "       [  2.88969159e-01,   1.15126945e-01,  -2.98365235e-01,\n",
       "         -2.48671815e-01,   8.91934037e-02,   1.70447201e-01,\n",
       "         -9.91210699e-01,   2.47865424e-01,  -3.66512477e-01,\n",
       "          6.29738092e-01],\n",
       "       [  1.48532882e-01,   2.06923872e-01,  -1.98196918e-01,\n",
       "         -3.58895719e-01,   5.67963719e-02,   1.23804718e-01,\n",
       "         -1.08319354e+00,   3.57144386e-01,  -2.49329016e-01,\n",
       "          6.88013613e-01],\n",
       "       [  1.39903933e-01,   2.27661729e-01,  -1.92195982e-01,\n",
       "         -3.62648308e-01,   5.28016686e-03,   1.62903696e-01,\n",
       "         -1.00402582e+00,   3.73019159e-01,  -2.35621944e-01,\n",
       "          6.53215528e-01],\n",
       "       [  3.92379731e-01,   6.50405586e-02,  -4.03750211e-01,\n",
       "         -1.05782926e-01,   1.67611241e-03,   2.82691687e-01,\n",
       "         -7.00765491e-01,   2.07640454e-01,  -4.69748139e-01,\n",
       "          4.57631111e-01],\n",
       "       [ -1.48923844e-01,   5.53370297e-01,   3.29929590e-03,\n",
       "         -2.97068596e-01,  -1.76419109e-01,   2.25531787e-01,\n",
       "         -9.24700975e-01,   9.77142453e-02,   1.17869973e-02,\n",
       "          6.96134806e-01],\n",
       "       [  2.28501752e-01,   1.46319106e-01,  -2.49539971e-01,\n",
       "         -3.21238071e-01,   2.37512589e-02,   1.88989148e-01,\n",
       "         -9.89637256e-01,   3.02361935e-01,  -3.06006223e-01,\n",
       "          6.51753485e-01],\n",
       "       [  3.11796576e-01,   9.43151712e-02,  -3.19700807e-01,\n",
       "         -2.26311326e-01,   2.37900019e-02,   2.29360908e-01,\n",
       "         -8.92151594e-01,   2.26066038e-01,  -3.83934349e-01,\n",
       "          5.91121137e-01],\n",
       "       [  1.46965414e-01,   2.55502373e-01,  -2.35691398e-01,\n",
       "         -2.52979606e-01,   3.98776084e-02,   1.35187060e-01,\n",
       "         -9.19804394e-01,   3.90393436e-01,  -2.78550625e-01,\n",
       "          5.54000854e-01],\n",
       "       [ -2.51248419e-01,   5.92284441e-01,   7.86828399e-02,\n",
       "         -4.72509146e-01,  -9.30643752e-02,   8.77614915e-02,\n",
       "         -1.12666726e+00,   3.87892246e-01,   8.94791186e-02,\n",
       "          7.58282721e-01],\n",
       "       [  4.47632074e-01,  -7.24074244e-02,  -4.20357704e-01,\n",
       "         -9.94453132e-02,   5.17754853e-01,  -5.36439717e-02,\n",
       "         -1.49110627e+00,   3.64180207e-02,  -5.27076483e-01,\n",
       "          8.37065339e-01],\n",
       "       [  6.38372302e-02,   3.16850722e-01,  -1.46007270e-01,\n",
       "         -3.07464898e-01,  -1.80272460e-02,   1.63522527e-01,\n",
       "         -1.00967646e+00,   2.43101344e-01,  -1.78724974e-01,\n",
       "          6.76488221e-01],\n",
       "       [  6.34516776e-02,   1.99253172e-01,  -6.64814115e-02,\n",
       "         -5.77076614e-01,   6.34039640e-02,   8.93783867e-02,\n",
       "         -1.41509891e+00,   2.83437014e-01,  -1.20751262e-01,\n",
       "          9.65054393e-01],\n",
       "       [  1.86889485e-01,   1.83824226e-01,  -2.16641799e-01,\n",
       "         -3.54010522e-01,  -5.46199083e-03,   1.94768667e-01,\n",
       "         -9.84116793e-01,   3.28923821e-01,  -2.65267581e-01,\n",
       "          6.57494903e-01],\n",
       "       [  7.12627172e-02,   3.34730864e-01,  -1.87561721e-01,\n",
       "         -3.02149653e-01,  -1.98387355e-02,   1.46030486e-01,\n",
       "         -8.53054702e-01,   5.00895977e-01,  -2.12993816e-01,\n",
       "          5.12584567e-01],\n",
       "       [ -9.87307727e-02,   5.06225109e-01,  -8.00014436e-02,\n",
       "         -2.99233913e-01,  -5.45831174e-02,   1.10858828e-01,\n",
       "         -8.88144374e-01,   4.59391207e-01,  -8.19003582e-02,\n",
       "          5.42226255e-01],\n",
       "       [  3.47684890e-01,  -3.89191359e-02,  -2.99748451e-01,\n",
       "         -3.31893504e-01,   1.62860155e-01,   1.67923018e-01,\n",
       "         -1.29076970e+00,   1.02320164e-01,  -3.71071070e-01,\n",
       "          8.69572878e-01],\n",
       "       [  2.02753291e-01,   1.85541645e-01,  -2.52769679e-01,\n",
       "         -2.86890864e-01,   4.55010384e-02,   1.56442344e-01,\n",
       "         -9.62797761e-01,   3.54461223e-01,  -3.05514395e-01,\n",
       "          6.02306962e-01],\n",
       "       [  3.94453168e-01,  -3.73310447e-02,  -3.23786765e-01,\n",
       "         -3.14966381e-01,   1.07518166e-01,   2.07399428e-01,\n",
       "         -1.13783777e+00,   1.10031158e-01,  -4.13671404e-01,\n",
       "          7.77560890e-01],\n",
       "       [  2.27181271e-01,   9.91718769e-02,  -1.86890528e-01,\n",
       "         -4.63740319e-01,  -3.49733829e-02,   2.46339232e-01,\n",
       "         -1.11740410e+00,   2.04575449e-01,  -2.45574474e-01,\n",
       "          8.16930115e-01],\n",
       "       [  9.22045410e-02,   2.81663209e-01,  -1.34212345e-01,\n",
       "         -4.44236070e-01,  -1.48256466e-01,   2.72835344e-01,\n",
       "         -8.73012066e-01,   3.90793204e-01,  -1.56246290e-01,\n",
       "          6.40247226e-01],\n",
       "       [ -7.00329244e-02,   3.76958251e-01,  -1.87934935e-02,\n",
       "         -5.11720002e-01,   2.61220336e-03,   7.97555149e-02,\n",
       "         -1.24941337e+00,   3.77613783e-01,  -4.36744094e-02,\n",
       "          8.29715490e-01],\n",
       "       [ -6.16547465e-03,   3.18109155e-01,  -4.46942449e-02,\n",
       "         -5.52728295e-01,  -6.69516921e-02,   1.62427932e-01,\n",
       "         -1.15078878e+00,   4.03174043e-01,  -6.97757006e-02,\n",
       "          8.03245068e-01],\n",
       "       [  6.31618351e-02,   2.36539721e-01,  -6.02989197e-02,\n",
       "         -5.70976794e-01,  -8.84452760e-02,   2.20468044e-01,\n",
       "         -1.18955123e+00,   2.64043659e-01,  -9.60286260e-02,\n",
       "          8.81658494e-01],\n",
       "       [ -2.45979428e-03,   3.47085834e-01,  -4.04900014e-02,\n",
       "         -5.21498322e-01,  -1.86634988e-01,   2.73827702e-01,\n",
       "         -9.83594775e-01,   3.13158810e-01,  -5.24141490e-02,\n",
       "          7.56226897e-01],\n",
       "       [  1.28876761e-01,   2.24481151e-01,  -1.57201886e-01,\n",
       "         -4.30964887e-01,  -5.52548915e-02,   2.12353751e-01,\n",
       "         -1.01067460e+00,   3.43500972e-01,  -1.95920765e-01,\n",
       "          7.04541385e-01],\n",
       "       [  2.48340875e-01,   5.47116250e-02,  -1.67619333e-01,\n",
       "         -4.97543484e-01,  -4.38782126e-02,   2.75123686e-01,\n",
       "         -1.21797347e+00,   5.47231138e-02,  -2.33802348e-01,\n",
       "          9.32400942e-01],\n",
       "       [  1.15591750e-01,   2.39746734e-01,  -1.75435513e-01,\n",
       "         -3.67941052e-01,   4.07013595e-02,   1.23981357e-01,\n",
       "         -1.08041811e+00,   3.60270590e-01,  -2.20968440e-01,\n",
       "          6.90931916e-01],\n",
       "       [  8.51549506e-02,   2.80951023e-01,  -1.51598632e-01,\n",
       "         -3.99425149e-01,  -3.75269055e-02,   1.73778713e-01,\n",
       "         -9.79805470e-01,   4.13617074e-01,  -1.83699816e-01,\n",
       "          6.48536801e-01],\n",
       "       [  3.45157593e-01,   1.90672576e-02,  -2.83587158e-01,\n",
       "         -3.60745907e-01,  -3.72881591e-02,   3.00666064e-01,\n",
       "         -9.80080962e-01,   1.52054936e-01,  -3.52804780e-01,\n",
       "          7.26897597e-01],\n",
       "       [  2.07746625e-01,   1.81870878e-01,  -2.53609896e-01,\n",
       "         -5.14834672e-02,   1.39994740e-01,   1.51448190e-01,\n",
       "         -1.19798112e+00,  -2.68335938e-01,  -3.12070578e-01,\n",
       "          8.18991780e-01],\n",
       "       [  2.76928991e-01,   1.11421280e-01,  -2.66898185e-01,\n",
       "         -3.28787327e-01,  -5.63590229e-02,   2.80694008e-01,\n",
       "         -8.83559644e-01,   2.56444573e-01,  -3.20968240e-01,\n",
       "          6.32067919e-01],\n",
       "       [  3.41037512e-01,   2.16344148e-02,  -2.92651713e-01,\n",
       "         -3.36713374e-01,   1.19705051e-02,   2.55856931e-01,\n",
       "         -1.02095497e+00,   1.66463599e-01,  -3.65909696e-01,\n",
       "          7.24134088e-01],\n",
       "       [  1.28801078e-01,   2.74246961e-01,  -2.30040863e-01,\n",
       "         -2.64335006e-01,   4.12385464e-02,   1.21172249e-01,\n",
       "         -9.05746937e-01,   4.54746068e-01,  -2.69509822e-01,\n",
       "          5.29889405e-01],\n",
       "       [  1.02330744e-01,   2.73795635e-01,  -1.56184748e-01,\n",
       "         -3.62457037e-01,  -6.39373362e-02,   2.13793918e-01,\n",
       "         -9.59816396e-01,   2.91627198e-01,  -1.88969821e-01,\n",
       "          6.67873561e-01],\n",
       "       [  2.55338877e-01,   1.52402297e-01,  -2.83360720e-01,\n",
       "         -2.69244283e-01,  -2.20866203e-02,   2.37547934e-01,\n",
       "         -8.40724826e-01,   3.20390224e-01,  -3.34371150e-01,\n",
       "          5.58376789e-01],\n",
       "       [  1.83626518e-01,   1.30462006e-01,  -1.63608432e-01,\n",
       "         -4.74007010e-01,   7.65296817e-03,   1.89568341e-01,\n",
       "         -1.19204378e+00,   2.37945214e-01,  -2.21846908e-01,\n",
       "          8.38931501e-01],\n",
       "       [  1.08672068e-01,   2.13752925e-01,  -1.27920985e-01,\n",
       "         -4.76526678e-01,   1.90709978e-02,   1.45179391e-01,\n",
       "         -1.18853402e+00,   3.20489466e-01,  -1.75666422e-01,\n",
       "          8.06332827e-01],\n",
       "       [ -2.74697840e-02,   3.68589103e-01,  -7.48613626e-02,\n",
       "         -4.39689279e-01,  -2.20994651e-03,   9.66911316e-02,\n",
       "         -1.11362815e+00,   4.31226313e-01,  -9.92365479e-02,\n",
       "          7.16576338e-01],\n",
       "       [  5.56835532e-02,   2.24372447e-01,  -9.09058452e-02,\n",
       "         -3.51374090e-01,   1.74780399e-01,   4.33657765e-02,\n",
       "         -1.54916942e+00,  -8.93930197e-02,  -1.44821778e-01,\n",
       "          1.05004573e+00],\n",
       "       [  1.25859380e-01,   2.26031303e-01,  -1.49618804e-01,\n",
       "         -4.45002705e-01,  -7.31672198e-02,   2.26726741e-01,\n",
       "         -1.00304461e+00,   3.39243710e-01,  -1.86549067e-01,\n",
       "          7.10897923e-01],\n",
       "       [ -1.17973089e-01,   4.53333884e-01,   2.21164525e-02,\n",
       "         -5.59333205e-01,  -1.71302617e-01,   2.02829674e-01,\n",
       "         -1.02113843e+00,   4.45425808e-01,   2.42764354e-02,\n",
       "          7.41046727e-01],\n",
       "       [ -7.93842971e-02,   4.53553110e-01,  -8.68513584e-02,\n",
       "         -3.81518513e-01,   9.45346057e-03,   5.13709188e-02,\n",
       "         -9.89350557e-01,   6.03430510e-01,  -9.85726416e-02,\n",
       "          5.70221424e-01],\n",
       "       [ -3.42522562e-02,   4.50362116e-01,  -1.05881587e-01,\n",
       "         -3.03634167e-01,  -1.14971966e-01,   1.93942338e-01,\n",
       "         -8.13339949e-01,   3.93215954e-01,  -1.10201925e-01,\n",
       "          5.40701032e-01],\n",
       "       [  1.42902359e-01,   1.67608544e-01,  -1.03581488e-01,\n",
       "         -5.67892194e-01,  -1.30668893e-01,   2.90985197e-01,\n",
       "         -1.10639095e+00,   2.35757932e-01,  -1.44322112e-01,\n",
       "          8.57966959e-01],\n",
       "       [  9.95835215e-02,   1.73942044e-01,  -1.41333416e-01,\n",
       "         -4.29935902e-01,   2.09152669e-01,   2.68873572e-03,\n",
       "         -1.47550344e+00,   2.62060642e-01,  -1.97006837e-01,\n",
       "          9.28095043e-01],\n",
       "       [ -1.09129816e-01,   4.32893872e-01,   2.23811567e-02,\n",
       "         -4.95396793e-01,  -9.82249156e-02,   1.62286192e-01,\n",
       "         -1.17405117e+00,   2.35203892e-01,   1.11764967e-02,\n",
       "          8.47200751e-01],\n",
       "       [  2.71276146e-01,   2.57821858e-01,  -2.63761461e-01,\n",
       "         -2.49953449e-01,   2.13917196e-01,   1.06024474e-01,\n",
       "         -9.80530858e-01,   3.39734614e-01,  -3.29352140e-01,\n",
       "          5.63997090e-01],\n",
       "       [  9.49023217e-02,   2.33114749e-01,  -9.55101848e-02,\n",
       "         -5.36600709e-01,  -1.31446943e-01,   2.65964746e-01,\n",
       "         -1.04616868e+00,   3.11824679e-01,  -1.26664549e-01,\n",
       "          7.88422287e-01]], dtype=float32)"
      ]
     },
     "execution_count": 22,
     "metadata": {},
     "output_type": "execute_result"
    }
   ],
   "source": [
    "data = mnist.train.next_batch(100)\n",
    "sess.run(out, {X: data[0], Y: data[1]})"
   ]
  },
  {
   "cell_type": "code",
   "execution_count": 19,
   "metadata": {
    "collapsed": true
   },
   "outputs": [],
   "source": [
    "tf.reset_default_graph() "
   ]
  },
  {
   "cell_type": "markdown",
   "metadata": {},
   "source": [
    "## Structuring Our Model\n",
    "\n",
    "Again looking towards the inevitable complexity of our models later on, we must now think about writing well-structured code. \n",
    "\n",
    "Definining our graph as a **class object** naively is problematic because of the nature of tensors. Remember each computation is a node with new tensor defined at that point. If we defined the prediction part of the graph as a method and called it a second time when we evaluated the loss, we would create a mess of nodes. We use **decorators** to solve this problem in a pythonic way."
   ]
  },
  {
   "cell_type": "code",
   "execution_count": 20,
   "metadata": {
    "collapsed": true
   },
   "outputs": [],
   "source": [
    "import functools\n",
    "\n",
    "# this is a decorator that does two things on a function: \n",
    "#    (1) makes it behave like a `@property` that is only evaluated once\n",
    "#    (2) sets the variable scope of of all variables as the name of the function\n",
    "\n",
    "def define_scope(function):\n",
    "    attribute = '_cache_' + function.__name__\n",
    "\n",
    "    @property\n",
    "    @functools.wraps(function)\n",
    "    def decorator(self):\n",
    "        if not hasattr(self, attribute):\n",
    "            with tf.variable_scope(function.__name__):\n",
    "                setattr(self, attribute, function(self))\n",
    "        return getattr(self, attribute)\n",
    "\n",
    "    return decorator"
   ]
  },
  {
   "cell_type": "code",
   "execution_count": 21,
   "metadata": {
    "collapsed": true
   },
   "outputs": [],
   "source": [
    "def fully_connected_relu(input, output_dim, relu=True):\n",
    "    input_dim = input.get_shape().as_list()[1]\n",
    "    weights = tf.get_variable(\"weights\",shape=[input_dim, output_dim])\n",
    "    biases = tf.get_variable(\"biases\", shape=[output_dim])\n",
    "    out = tf.add(tf.matmul(input, weights), biases)\n",
    "    if relu:\n",
    "        out = tf.nn.relu(out)\n",
    "    return out"
   ]
  },
  {
   "cell_type": "markdown",
   "metadata": {},
   "source": [
    "We also will feed a dictionary (actually a class with attributes) of **hyperparameters** to the model's constructor. This will allow flexibility as well as using some of the useful features that the TF community has built. This code allows us to define hyperparameters and accept command line arguments to override them. "
   ]
  },
  {
   "cell_type": "code",
   "execution_count": 22,
   "metadata": {
    "collapsed": false
   },
   "outputs": [],
   "source": [
    "# Define a command line flag to pass name=value pairs.\n",
    "# For example using argparse:\n",
    "#import argparse\n",
    "#parser = argparse.ArgumentParser(description='Train my model.')\n",
    "#parser.add_argument('--hparams', type=str,\n",
    "#                    help='Comma separated list of \"name=value\" pairs.')\n",
    "#args = parser.parse_args()\n",
    "\n",
    "# Set hyperparameters\n",
    "hparams = tf.contrib.training.HParams(\n",
    "    LEARNING_RATE=0.001, \n",
    "    HIDDEN_DIM1=10,\n",
    "    HIDDEN_DIM2=10\n",
    ")\n",
    "\n",
    "# Override hyperparameters values by parsing the command line\n",
    "#hparams.parse(args.hparams)\n"
   ]
  },
  {
   "cell_type": "code",
   "execution_count": 23,
   "metadata": {
    "collapsed": false
   },
   "outputs": [],
   "source": [
    "class nn_classifier:\n",
    "    def __init__(self, input_data, target_data, hparams): \n",
    "    \n",
    "        self.input_data = input_data\n",
    "        self.target_data = target_data\n",
    "        self.in_dim, self.out_dim = self.get_inout_dim()\n",
    "        \n",
    "        self.learning_rate = hparams.LEARNING_RATE\n",
    "        self.hidden_dim1 = hparams.HIDDEN_DIM1\n",
    "        self.hidden_dim2 = hparams.HIDDEN_DIM2\n",
    "\n",
    "        self.prediction \n",
    "        self.loss \n",
    "        self.train \n",
    "        self.evaluate \n",
    "        \n",
    "    def get_inout_dim(self):\n",
    "        in_dim = self.input_data.get_shape().as_list()[1]\n",
    "        out_dim = self.target_data.get_shape().as_list()[1]\n",
    "        return in_dim, out_dim\n",
    "    \n",
    "    @define_scope\n",
    "    def prediction(self):\n",
    "        \n",
    "        with tf.variable_scope(\"fconn1\"):\n",
    "            layer1 = fully_connected_relu(self.input_data, self.hidden_dim1)\n",
    "        with tf.variable_scope(\"fconn2\"):\n",
    "            layer2 = fully_connected_relu(layer1, self.hidden_dim2)\n",
    "        with tf.variable_scope(\"out\"):\n",
    "            out = fully_connected_relu(layer2, self.out_dim, relu=False)\n",
    "        return out\n",
    "    \n",
    "    @define_scope\n",
    "    def loss(self):\n",
    "        loss = tf.reduce_mean(tf.nn.softmax_cross_entropy_with_logits(\n",
    "                labels = self.target_data, logits = self.prediction))\n",
    "        return loss\n",
    "    \n",
    "    @define_scope\n",
    "    def train(self):\n",
    "        optimizer = tf.train.GradientDescentOptimizer(self.learning_rate)\n",
    "        train = optimizer.minimize(self.loss)\n",
    "        return train\n",
    "    \n",
    "    @define_scope\n",
    "    def evaluate(self):\n",
    "        dense = tf.argmax(Y, axis=1)\n",
    "        dense2 = tf.argmax(self.prediction, axis=1)\n",
    "        correct = tf.equal(dense, dense2)\n",
    "        score = tf.reduce_mean(tf.cast(correct, tf.float32))\n",
    "        return score"
   ]
  },
  {
   "cell_type": "code",
   "execution_count": 24,
   "metadata": {
    "collapsed": false
   },
   "outputs": [],
   "source": [
    "# create the graph and initialize it in a session\n",
    "X = tf.placeholder(dtype=tf.float32, shape = [None, 784])\n",
    "Y = tf.placeholder(dtype=tf.float64, shape = [None, 10])\n",
    "model = nn_classifier(X, Y, hparams)\n",
    "sess = tf.Session()\n",
    "sess.run(tf.global_variables_initializer())"
   ]
  },
  {
   "cell_type": "code",
   "execution_count": 25,
   "metadata": {
    "collapsed": false
   },
   "outputs": [
    {
     "name": "stdout",
     "output_type": "stream",
     "text": [
      "Test accuracy  14.77% \t\tX-Ent Loss:   2.37\n",
      "Test accuracy  27.05% \t\tX-Ent Loss:   2.19\n",
      "Test accuracy  31.94% \t\tX-Ent Loss:   1.98\n",
      "Test accuracy  46.94% \t\tX-Ent Loss:   1.75\n",
      "Test accuracy  57.17% \t\tX-Ent Loss:   1.51\n",
      "Test accuracy  64.80% \t\tX-Ent Loss:   1.25\n",
      "Test accuracy  71.58% \t\tX-Ent Loss:   1.05\n",
      "Test accuracy  75.74% \t\tX-Ent Loss:   0.92\n",
      "Test accuracy  77.72% \t\tX-Ent Loss:   0.81\n",
      "Test accuracy  79.32% \t\tX-Ent Loss:   0.74\n"
     ]
    }
   ],
   "source": [
    "# iterate through evaluations\n",
    "for i in range(10):\n",
    "    images, labels = mnist.test.images, mnist.test.labels\n",
    "    loss, evaluate = sess.run([model.loss, model.evaluate], feed_dict={X: images, Y: labels})\n",
    "    print('Test accuracy {:6.2f}% \\t\\tX-Ent Loss: {:6.2f}'.format(100 * evaluate, loss))\n",
    "    # nested iterate through training steps\n",
    "    for i in range(1000):\n",
    "        data = mnist.train.next_batch(100)\n",
    "        images, labels = data[0], data[1]\n",
    "        sess.run(model.train, {X: data[0], Y: data[1]})"
   ]
  },
  {
   "cell_type": "code",
   "execution_count": 363,
   "metadata": {
    "collapsed": true
   },
   "outputs": [],
   "source": [
    "tf.reset_default_graph() "
   ]
  },
  {
   "cell_type": "markdown",
   "metadata": {},
   "source": [
    "## add convolutions using model inheritance"
   ]
  },
  {
   "cell_type": "code",
   "execution_count": 364,
   "metadata": {
    "collapsed": true
   },
   "outputs": [],
   "source": [
    "# we define two functions that represent layers of a convolutional net. We already have the fully connected layer\n",
    "def conv_relu(input, kernel_shape, bias_shape):\n",
    "    # Create variable named \"weights\".\n",
    "    weights = tf.get_variable(\"weights\", kernel_shape,\n",
    "        initializer=tf.random_normal_initializer())\n",
    "    # Create variable named \"biases\".\n",
    "    biases = tf.get_variable(\"biases\", bias_shape,\n",
    "        initializer=tf.constant_initializer(0.0))\n",
    "    conv = tf.nn.conv2d(input, weights,\n",
    "        strides=[1, 1, 1, 1], padding='SAME')\n",
    "    return tf.nn.relu(conv + biases)\n",
    "\n",
    "def max_pool_2x2(x):\n",
    "    return tf.nn.max_pool(x, ksize=[1, 2, 2, 1],\n",
    "                        strides=[1, 2, 2, 1], padding='SAME')"
   ]
  },
  {
   "cell_type": "code",
   "execution_count": 365,
   "metadata": {
    "collapsed": false
   },
   "outputs": [],
   "source": [
    "class conv_net_classifier(nn_classifier):\n",
    "    def __init__(self, input_data, target_data, hparams):\n",
    "        super().__init__(input_data, target_data, hparams)\n",
    "    \n",
    "    @define_scope\n",
    "    def prediction(self):\n",
    "        \n",
    "        x_image = tf.reshape(self.input_data, [-1, 28, 28, 1]) #input shape starts as [-1,28*28], now we make 2d grid and add color chanell\n",
    "        with tf.variable_scope(\"conv_maxp_1\"):\n",
    "            conv1 = conv_relu(x_image, [5, 5, 1, 32], [32]) #[-1,28,28,32] \n",
    "            max_p1 = max_pool_2x2(conv1) # [-1,14,14,32]\n",
    "        with tf.variable_scope(\"conv_maxp_2\"):\n",
    "            conv2 = conv_relu(max_p1, [5, 5, 32, 64], [64]) #[-1,14,14,64]\n",
    "            max_p2 = max_pool_2x2(conv2) # [-1,7,7,64]\n",
    "        with tf.variable_scope(\"full_con_1\"):\n",
    "            max_p2_flat = tf.reshape(max_p2, [-1, 7*7*64]) \n",
    "            fc_1 = fully_connected_relu(max_p2_flat, 1024) #[-1,1024]\n",
    "        with tf.variable_scope('out'):\n",
    "            out = fully_connected_relu(fc_1, self.out_dim, relu=False)\n",
    "        return out\n",
    "    \n",
    "    @define_scope\n",
    "    def train(self):\n",
    "        optimizer = tf.train.AdamOptimizer(self.learning_rate)\n",
    "        train = optimizer.minimize(self.loss)\n",
    "        return train\n",
    "        "
   ]
  },
  {
   "cell_type": "code",
   "execution_count": 366,
   "metadata": {
    "collapsed": true
   },
   "outputs": [],
   "source": [
    "hparams = tf.contrib.training.HParams(\n",
    "    LEARNING_RATE=0.001, \n",
    "    HIDDEN_DIM1=10,\n",
    "    HIDDEN_DIM2=10\n",
    ")"
   ]
  },
  {
   "cell_type": "code",
   "execution_count": 367,
   "metadata": {
    "collapsed": false
   },
   "outputs": [],
   "source": [
    "# create the graph and initialize it in a session\n",
    "X = tf.placeholder(dtype=tf.float32, shape = [None, 784])\n",
    "Y = tf.placeholder(dtype=tf.float64, shape = [None, 10])\n",
    "model = conv_net_classifier(X, Y, hparams)\n",
    "sess = tf.Session()\n",
    "sess.run(tf.global_variables_initializer())"
   ]
  },
  {
   "cell_type": "code",
   "execution_count": 347,
   "metadata": {
    "collapsed": false
   },
   "outputs": [
    {
     "name": "stdout",
     "output_type": "stream",
     "text": [
      "Test accuracy  13.55% \t\tX-Ent Loss:  59.84\n",
      "Test accuracy  40.84% \t\tX-Ent Loss: 160.82\n",
      "Test accuracy  61.52% \t\tX-Ent Loss:  23.26\n",
      "Test accuracy  77.55% \t\tX-Ent Loss:   7.72\n",
      "Test accuracy  87.46% \t\tX-Ent Loss:   3.93\n",
      "Test accuracy  90.43% \t\tX-Ent Loss:   2.45\n",
      "Test accuracy  91.41% \t\tX-Ent Loss:   2.01\n",
      "Test accuracy  90.33% \t\tX-Ent Loss:   2.06\n",
      "Test accuracy  91.53% \t\tX-Ent Loss:   1.60\n",
      "Test accuracy  91.40% \t\tX-Ent Loss:   1.59\n"
     ]
    }
   ],
   "source": [
    "# iterate through evaluations\n",
    "for i in range(10):\n",
    "    images, labels = mnist.test.images, mnist.test.labels\n",
    "    loss, evaluate = sess.run([model.loss, model.evaluate], feed_dict={X: images, Y: labels})\n",
    "    print('Test accuracy {:6.2f}% \\t\\tX-Ent Loss: {:6.2f}'.format(100 * evaluate, loss))\n",
    "    # nested iterate through training steps\n",
    "    for i in range(10):\n",
    "        data = mnist.train.next_batch(100)\n",
    "        images, labels = data[0], data[1]\n",
    "        sess.run(model.train, {X: data[0], Y: data[1]})"
   ]
  },
  {
   "cell_type": "markdown",
   "metadata": {},
   "source": [
    "This way of coding in tensorflow is far superior to simply coding as we go for each model. It allows us to interchangably plug in ideas while we test their effectiveness against each other, allowing us to tune models and hyperparameters."
   ]
  },
  {
   "cell_type": "markdown",
   "metadata": {},
   "source": [
    "## More excercises\n",
    "\n",
    "* Create a convolutional relu function in base TF\n",
    "    * Create max pool and relu functions in base TF\n",
    "    * cross entropy: tf.reduce_mean(-tf.reduce_sum(y_ * tf.log(tf.softmax(y)), reduction_indices=[1]))\n",
    "* Dropout layer\n",
    "* Experiment with code structure from https://blog.metaflow.fr/tensorflow-a-proposal-of-good-practices-for-files-folders-and-models-architecture-f23171501ae3\n",
    "    * Modularize class across a directory\n",
    "    * Create a generalized model class that is meant to get overwritten\n",
    "* Question: When I overwrite a method of a class, does the first graph already get built? No, but notice that there is a second set of the"
   ]
  },
  {
   "cell_type": "code",
   "execution_count": null,
   "metadata": {
    "collapsed": true
   },
   "outputs": [],
   "source": []
  },
  {
   "cell_type": "code",
   "execution_count": null,
   "metadata": {
    "collapsed": true
   },
   "outputs": [],
   "source": []
  },
  {
   "cell_type": "code",
   "execution_count": null,
   "metadata": {
    "collapsed": true
   },
   "outputs": [],
   "source": []
  },
  {
   "cell_type": "code",
   "execution_count": null,
   "metadata": {
    "collapsed": true
   },
   "outputs": [],
   "source": []
  },
  {
   "cell_type": "code",
   "execution_count": null,
   "metadata": {
    "collapsed": true
   },
   "outputs": [],
   "source": []
  },
  {
   "cell_type": "code",
   "execution_count": 376,
   "metadata": {
    "collapsed": false
   },
   "outputs": [
    {
     "data": {
      "text/plain": [
       "[<tf.Variable 'Variable:0' shape=(784, 10) dtype=float32_ref>,\n",
       " <tf.Variable 'Variable_1:0' shape=(10, 10) dtype=float32_ref>,\n",
       " <tf.Variable 'Variable_2:0' shape=(10, 10) dtype=float32_ref>,\n",
       " <tf.Variable 'Variable_3:0' shape=(10,) dtype=float32_ref>,\n",
       " <tf.Variable 'Variable_4:0' shape=(10,) dtype=float32_ref>,\n",
       " <tf.Variable 'Variable_5:0' shape=(10,) dtype=float32_ref>]"
      ]
     },
     "execution_count": 376,
     "metadata": {},
     "output_type": "execute_result"
    }
   ],
   "source": [
    " tf.get_collection(tf.GraphKeys.GLOBAL_VARIABLES)"
   ]
  },
  {
   "cell_type": "code",
   "execution_count": null,
   "metadata": {
    "collapsed": true
   },
   "outputs": [],
   "source": []
  }
 ],
 "metadata": {
  "kernelspec": {
   "display_name": "Python [Root]",
   "language": "python",
   "name": "Python [Root]"
  },
  "language_info": {
   "codemirror_mode": {
    "name": "ipython",
    "version": 3
   },
   "file_extension": ".py",
   "mimetype": "text/x-python",
   "name": "python",
   "nbconvert_exporter": "python",
   "pygments_lexer": "ipython3",
   "version": "3.5.2"
  }
 },
 "nbformat": 4,
 "nbformat_minor": 0
}
