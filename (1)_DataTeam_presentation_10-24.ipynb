{
 "cells": [
  {
   "cell_type": "code",
   "execution_count": 1,
   "metadata": {
    "collapsed": false,
    "scrolled": false
   },
   "outputs": [
    {
     "name": "stdout",
     "output_type": "stream",
     "text": [
      "Populating the interactive namespace from numpy and matplotlib\n"
     ]
    }
   ],
   "source": [
    "import tensorflow as tf\n",
    "import pandas as pd\n",
    "import numpy as np\n",
    "import pandas_datareader.data as web\n",
    "%pylab inline\n",
    "import matplotlib.pyplot as plt"
   ]
  },
  {
   "cell_type": "markdown",
   "metadata": {},
   "source": [
    "# A longwinded note on the structure of this tutorial\n",
    "\n",
    "This presentation is intended as a first look at tensorflow. It should provide enough foundation to let the student start exploring the documentation themselves. This should be reinforced by maybe 20 minutes of \"playing around\" in a notebook to solidify the concepts. \n",
    "\n",
    "Documentation of Tensorflow can be found on their website. Its very useful but, since it's a huge project, can be tough to work through. It helps to know that tensorflow is actually a collection of APIs starting with TensorFlow Core and working up to varying levels of abstraction. Some of the mid-level APIs, such as `tf.train` and `tf.nn` are commonly used even in research level. \n",
    "\n",
    "When learning tensorflow we can either start from the top or bottom (high level API or core API). Both methods have their advantages but I have chosen the latter. We will begin with the basic funcionality of the Core API and a few other APIs that help with basic mathematical operations. In later lessons we will work up to higher level APIs, but wherever possible, we will first run some basic code in Core API that does the same as the higher level function. For the student who gets bogged down by rigorous math: although occaisionally frustrating, she should keep in mind that pretty much every \"mathy bit\" will get redefined later as a one-line abstraction. \n",
    "\n",
    "This method is intended to avoid letting any part of the process become a \"black box\". Once we move on to deep learning this will be vital because it allows us to poke around inside our model and figure out if it is training correctly."
   ]
  },
  {
   "cell_type": "markdown",
   "metadata": {},
   "source": [
    "# Intro"
   ]
  },
  {
   "cell_type": "markdown",
   "metadata": {},
   "source": [
    "## basic tensorflow intuition"
   ]
  },
  {
   "cell_type": "markdown",
   "metadata": {},
   "source": [
    "Those who have experience with numpy will be familiar with most of the functions and operations. The rest of us have experience with other forms of processing data, manipulating dataframes, matrices, and arrays in whatever language and package. \n",
    "\n",
    "Tensorflow will be the same as this, but with one more layer of required intuition: the idea of **graph based computation**. \n",
    "\n",
    "Think of it like this: instead of having objects that hold data and functions that manipulate the objects to create new objects, we have **tensors** which hold a graph of all the functions that will arrive to that point. Calling the tensor itself does nothing, instead we have to **run the function in a Session**."
   ]
  },
  {
   "cell_type": "markdown",
   "metadata": {},
   "source": [
    "### constants and operations"
   ]
  },
  {
   "cell_type": "code",
   "execution_count": 2,
   "metadata": {
    "collapsed": true
   },
   "outputs": [],
   "source": [
    "x = tf.constant(4)\n",
    "y = tf.constant(5)"
   ]
  },
  {
   "cell_type": "code",
   "execution_count": 3,
   "metadata": {
    "collapsed": false
   },
   "outputs": [
    {
     "data": {
      "text/plain": [
       "<tf.Tensor 'Const:0' shape=() dtype=int32>"
      ]
     },
     "execution_count": 3,
     "metadata": {},
     "output_type": "execute_result"
    }
   ],
   "source": [
    "x"
   ]
  },
  {
   "cell_type": "code",
   "execution_count": 4,
   "metadata": {
    "collapsed": false
   },
   "outputs": [
    {
     "data": {
      "text/plain": [
       "<tf.Tensor 'add:0' shape=() dtype=int32>"
      ]
     },
     "execution_count": 4,
     "metadata": {},
     "output_type": "execute_result"
    }
   ],
   "source": [
    "x+y"
   ]
  },
  {
   "cell_type": "code",
   "execution_count": 5,
   "metadata": {
    "collapsed": false
   },
   "outputs": [
    {
     "data": {
      "text/plain": [
       "9"
      ]
     },
     "execution_count": 5,
     "metadata": {},
     "output_type": "execute_result"
    }
   ],
   "source": [
    "sess = tf.Session()\n",
    "sess.run(x+y)"
   ]
  },
  {
   "cell_type": "markdown",
   "metadata": {},
   "source": [
    "Constants can have rank 0 or greater. Lets check out a rank two constant:"
   ]
  },
  {
   "cell_type": "code",
   "execution_count": 6,
   "metadata": {
    "collapsed": false
   },
   "outputs": [],
   "source": [
    "Z = tf.constant([[1,2],[3,4]])"
   ]
  },
  {
   "cell_type": "code",
   "execution_count": 7,
   "metadata": {
    "collapsed": false
   },
   "outputs": [
    {
     "data": {
      "text/plain": [
       "array([[ 4,  8],\n",
       "       [12, 16]], dtype=int32)"
      ]
     },
     "execution_count": 7,
     "metadata": {},
     "output_type": "execute_result"
    }
   ],
   "source": [
    "sess.run(tf.multiply(x,Z)) # x * Z also works (abreviated syntax)"
   ]
  },
  {
   "cell_type": "markdown",
   "metadata": {},
   "source": [
    "There are lots of functions for data manipulation: addition, multiplication, exponents, etc. Look at the documentation for descriptions for what they are. For example:"
   ]
  },
  {
   "cell_type": "code",
   "execution_count": 8,
   "metadata": {
    "collapsed": false
   },
   "outputs": [
    {
     "data": {
      "text/plain": [
       "array([[  1,  16],\n",
       "       [ 81, 256]], dtype=int32)"
      ]
     },
     "execution_count": 8,
     "metadata": {},
     "output_type": "execute_result"
    }
   ],
   "source": [
    "sess.run(tf.pow(Z, x)) # = Z^x"
   ]
  },
  {
   "cell_type": "markdown",
   "metadata": {},
   "source": [
    "### placeholders\n",
    "Placeholders are empty dataframes where we input the data when we run the process. This is vital to the workflow in tensorflow. We usually use them as the \"input and output\" sets. In  `Y = M*X + b` the placeholders would be X and Y. The placeholders can hold lots of data so the model runs **batches** as we will see."
   ]
  },
  {
   "cell_type": "code",
   "execution_count": 9,
   "metadata": {
    "collapsed": false
   },
   "outputs": [],
   "source": [
    "X = tf.placeholder(dtype = tf.float32)\n",
    "Y = tf.placeholder(dtype = tf.float32)"
   ]
  },
  {
   "cell_type": "code",
   "execution_count": 10,
   "metadata": {
    "collapsed": false
   },
   "outputs": [
    {
     "data": {
      "text/plain": [
       "array([ 3.,  5.,  7.], dtype=float32)"
      ]
     },
     "execution_count": 10,
     "metadata": {},
     "output_type": "execute_result"
    }
   ],
   "source": [
    "sess.run(X+Y, {X:[0,1,2], Y:[3,4,5]})"
   ]
  },
  {
   "cell_type": "markdown",
   "metadata": {},
   "source": [
    "### Variables\n",
    "These are the **trainable** parameters of the model. They must be **initialized** to a certain value before being used.  "
   ]
  },
  {
   "cell_type": "code",
   "execution_count": 11,
   "metadata": {
    "collapsed": true
   },
   "outputs": [],
   "source": [
    "M = tf.Variable([.01], dtype = tf.float32)"
   ]
  },
  {
   "cell_type": "code",
   "execution_count": 12,
   "metadata": {
    "collapsed": false
   },
   "outputs": [],
   "source": [
    "init = tf.global_variables_initializer()\n",
    "sess.run(init)"
   ]
  },
  {
   "cell_type": "code",
   "execution_count": 13,
   "metadata": {
    "collapsed": false
   },
   "outputs": [
    {
     "data": {
      "text/plain": [
       "array([ 0.01      ,  1.00999999,  2.00999999,  3.00999999], dtype=float32)"
      ]
     },
     "execution_count": 13,
     "metadata": {},
     "output_type": "execute_result"
    }
   ],
   "source": [
    "sess.run(M + X, {X: [0,1,2,3]})"
   ]
  },
  {
   "cell_type": "markdown",
   "metadata": {},
   "source": [
    "After initialization, variables can be assigned to a new value. This is what \"training\" is: slowly changing the trainable variables."
   ]
  },
  {
   "cell_type": "code",
   "execution_count": 14,
   "metadata": {
    "collapsed": false
   },
   "outputs": [
    {
     "name": "stdout",
     "output_type": "stream",
     "text": [
      "[ 0.01        1.00999999  2.00999999  3.00999999]\n",
      "[ 2.00999999  3.00999999  4.01000023  5.01000023]\n",
      "[ 4.01000023  5.01000023  6.01000023  7.01000023]\n",
      "[ 6.01000023  7.01000023  8.01000023  9.01000023]\n",
      "[  8.01000023   9.01000023  10.01000023  11.01000023]\n",
      "[ 10.01000023  11.01000023  12.01000023  13.01000023]\n",
      "[ 12.01000023  13.01000023  14.01000023  15.01000023]\n",
      "[ 14.01000023  15.01000023  16.01000023  17.01000023]\n",
      "[ 16.01000023  17.01000023  18.01000023  19.01000023]\n",
      "[ 18.01000023  19.01000023  20.01000023  21.01000023]\n"
     ]
    }
   ],
   "source": [
    "update_M = tf.assign_add(M, [2])\n",
    "for i in range(10):\n",
    "    print(sess.run(M + X, {X: [0,1,2,3]}))\n",
    "    sess.run(update_M)"
   ]
  },
  {
   "cell_type": "markdown",
   "metadata": {},
   "source": [
    "It is best practices to initialize a Variable using `tf.get_variable` and to assign it a name and datatype. The default initializer is random_uniform but we can change that "
   ]
  },
  {
   "cell_type": "code",
   "execution_count": 15,
   "metadata": {
    "collapsed": false
   },
   "outputs": [],
   "source": [
    "my_v = tf.get_variable(\"my_v\", [1,2,3])"
   ]
  },
  {
   "cell_type": "code",
   "execution_count": 16,
   "metadata": {
    "collapsed": false
   },
   "outputs": [
    {
     "data": {
      "text/plain": [
       "<tf.Variable 'my_v:0' shape=(1, 2, 3) dtype=float32_ref>"
      ]
     },
     "execution_count": 16,
     "metadata": {},
     "output_type": "execute_result"
    }
   ],
   "source": [
    "my_v"
   ]
  },
  {
   "cell_type": "code",
   "execution_count": 17,
   "metadata": {
    "collapsed": true
   },
   "outputs": [],
   "source": [
    "#dont forget to initialize!\n",
    "init = tf.global_variables_initializer()\n",
    "sess.run(init)"
   ]
  },
  {
   "cell_type": "code",
   "execution_count": 18,
   "metadata": {
    "collapsed": false
   },
   "outputs": [
    {
     "data": {
      "text/plain": [
       "array([[[-0.5787527 , -0.34723955,  0.8445853 ],\n",
       "        [-0.38655049, -1.0259459 , -0.76001722]]], dtype=float32)"
      ]
     },
     "execution_count": 18,
     "metadata": {},
     "output_type": "execute_result"
    }
   ],
   "source": [
    "sess.run(my_v)"
   ]
  },
  {
   "cell_type": "markdown",
   "metadata": {},
   "source": [
    "# Time to make a linear regression, boludo"
   ]
  },
  {
   "cell_type": "code",
   "execution_count": 19,
   "metadata": {
    "collapsed": true
   },
   "outputs": [],
   "source": [
    "# training data\n",
    "x_train = [0.0,1.0,2.0,3.0]\n",
    "y_train = [4.0,5.0,6.0,7.0]"
   ]
  },
  {
   "cell_type": "code",
   "execution_count": 20,
   "metadata": {
    "collapsed": false
   },
   "outputs": [],
   "source": [
    "# 1 MODEL\n",
    "x = tf.placeholder(dtype = tf.float32, shape = [None,])\n",
    "y = tf.placeholder(dtype = tf.float32, shape = [None,])\n",
    "M = tf.get_variable(\"M\", dtype = tf.float32, initializer=tf.constant([0.1]))\n",
    "b = tf.get_variable(\"b\", dtype = tf.float32, initializer=tf.constant([0.1]))\n",
    "linear_model = M * x + b"
   ]
  },
  {
   "cell_type": "code",
   "execution_count": 22,
   "metadata": {
    "collapsed": false
   },
   "outputs": [
    {
     "data": {
      "text/plain": [
       "array([ 2.19999981,  4.29999971], dtype=float32)"
      ]
     },
     "execution_count": 22,
     "metadata": {},
     "output_type": "execute_result"
    }
   ],
   "source": [
    "# example\n",
    "init = tf.global_variables_initializer()\n",
    "sess.run(init)\n",
    "sess.run(tf.assign_add(M,[2]))\n",
    "sess.run(linear_model, {x: [1,2]})"
   ]
  },
  {
   "cell_type": "code",
   "execution_count": 23,
   "metadata": {
    "collapsed": true
   },
   "outputs": [],
   "source": [
    "# 2 LOSS\n",
    "sq_error = (y - linear_model)**2\n",
    "loss = tf.reduce_mean(sq_error)"
   ]
  },
  {
   "cell_type": "code",
   "execution_count": 24,
   "metadata": {
    "collapsed": false
   },
   "outputs": [],
   "source": [
    "# 3 OPTIMIZER\n",
    "## this is the CANCHERO VERSION OF GRADIENT_DESCENT OPTIMIZER in order to show the math... the more commonly used one is below, \n",
    "## but I wanted to show the functionality of the basic API. Most tutorials dont even bother showing this becuase\n",
    "## its not practical\n",
    "step = .01 # HYPERPARAM ALERT!!! also note: this will often be even smaller\n",
    "g = tf.gradients(loss, [M,b]) # computes the gradient (vector of partial derivatives) of the loss function w.r.t. the variables M and b. Computed through the magic of back propagation\n",
    "assign_M = tf.assign_sub(M, g[0]*[step]) # subtracts (dL/dM) * step) from M and assigns that as the new M\n",
    "assign_b = tf.assign_sub(b, g[1]*[step]) # subtracts (dL/db) * step) from b and assigns that as the new b\n",
    "def train_canchero():\n",
    "    return assign_M, assign_b"
   ]
  },
  {
   "cell_type": "code",
   "execution_count": 25,
   "metadata": {
    "collapsed": true
   },
   "outputs": [],
   "source": [
    "# init\n",
    "init = tf.global_variables_initializer()\n",
    "sess.run(init)"
   ]
  },
  {
   "cell_type": "code",
   "execution_count": 26,
   "metadata": {
    "collapsed": false
   },
   "outputs": [],
   "source": [
    "# iterate through the training step \n",
    "for i in range(1000):\n",
    "    sess.run(train_canchero(), {x: x_train, y: y_train})\n",
    "   "
   ]
  },
  {
   "cell_type": "code",
   "execution_count": 27,
   "metadata": {
    "collapsed": false,
    "scrolled": true
   },
   "outputs": [
    {
     "name": "stdout",
     "output_type": "stream",
     "text": [
      "[ 1.00342476] [ 3.99268842]\n"
     ]
    }
   ],
   "source": [
    "print(sess.run(M), sess.run(b)) # thats pretty close to what we'd expect!"
   ]
  },
  {
   "cell_type": "markdown",
   "metadata": {},
   "source": [
    "We will probably always use the **train** api instead of the canchero version. Its much easier and not error prone. "
   ]
  },
  {
   "cell_type": "code",
   "execution_count": 28,
   "metadata": {
    "collapsed": true
   },
   "outputs": [],
   "source": [
    "# 3 OPTIMIZER\n",
    "## Essentially all this does is (1) get the gradient of the loss function wrt variables (2) step the variable accordingly\n",
    "optimizer = tf.train.GradientDescentOptimizer(0.01) # step param\n",
    "train = optimizer.minimize(loss) # note: this automatically runs it on ALL variables, that's why we dont have to tell it which ones"
   ]
  },
  {
   "cell_type": "code",
   "execution_count": 29,
   "metadata": {
    "collapsed": false
   },
   "outputs": [
    {
     "name": "stdout",
     "output_type": "stream",
     "text": [
      "[ 1.0000093] [ 3.99998021]\n"
     ]
    }
   ],
   "source": [
    "# init again and run\n",
    "init = tf.global_variables_initializer()\n",
    "sess.run(init)\n",
    "for i in range(10000):\n",
    "    sess.run(train, {x: x_train, y: y_train})\n",
    "print(sess.run(M), sess.run(b))"
   ]
  },
  {
   "cell_type": "markdown",
   "metadata": {},
   "source": [
    "Finally, I marked the three essencial modules that any Machine Learning problem will have: Model, Loss, Optimizer. These three modules can be interchanged with other techniques according to our needs. Where an LSTM would fit in? Cross Entropy? Adagrad? "
   ]
  },
  {
   "cell_type": "markdown",
   "metadata": {},
   "source": [
    "# A look at what's ahead"
   ]
  },
  {
   "cell_type": "markdown",
   "metadata": {},
   "source": [
    "Using the same dumb training data, we will train a neural network. Notice that, since our net also goes from one dimension to one dimension, we use the same loss function (MSE) to compare the model's output with the target data. Since the gradient_descent_optimizer automatically looks at ALL variables, we dont even have to worry about naming it all the variables; the optimization module looks the same as well. "
   ]
  },
  {
   "cell_type": "code",
   "execution_count": 31,
   "metadata": {
    "collapsed": true
   },
   "outputs": [],
   "source": [
    "# training data (we need to format it differently so that it is accepted in training)\n",
    "x_train = np.array([0.0,1.0,2.0,3.0])\n",
    "y_train = np.array([4.0,5.0,6.0,7.0])"
   ]
  },
  {
   "cell_type": "code",
   "execution_count": 32,
   "metadata": {
    "collapsed": false
   },
   "outputs": [],
   "source": [
    "# model\n",
    "n_input = 1 # input dimension\n",
    "n_hidden_1 = 10 # 1st layer number of features\n",
    "n_hidden_2 = 10 # 2nd layer number of features\n",
    "n_out = 1 # out dim\n",
    "\n",
    "# define placeholders \n",
    "x = tf.placeholder(tf.float32, [None, ])\n",
    "y = tf.placeholder(tf.float32,  [None, ])\n",
    "\n",
    "# define variables\n",
    "weights = {\n",
    "    'h1': tf.Variable(tf.random_normal([n_input, n_hidden_1])),\n",
    "    'h2': tf.Variable(tf.random_normal([n_hidden_1, n_hidden_2])),\n",
    "    'out': tf.Variable(tf.random_normal([n_hidden_2, n_out]))\n",
    "}\n",
    "biases = {\n",
    "    'b1': tf.Variable(tf.random_normal([n_hidden_1])),\n",
    "    'b2': tf.Variable(tf.random_normal([n_hidden_2])),\n",
    "    'out': tf.Variable(tf.random_normal([n_out]))\n",
    "}\n",
    "\n",
    "# define model\n",
    "def multilayer_perceptron(x, weights, biases):\n",
    "    x = tf.reshape(x, [4,1])\n",
    "    # Hidden layer with RELU activation\n",
    "    layer_1 = tf.add(tf.matmul(x, weights['h1']), biases['b1'])\n",
    "    layer_1 = tf.nn.relu(layer_1)  # ReLU non-linearity stops linear functions from collapsing into a single linear function!\n",
    "    # Hidden layer with RELU activation\n",
    "    layer_2 = tf.add(tf.matmul(layer_1, weights['h2']), biases['b2'])\n",
    "    layer_2 = tf.nn.relu(layer_2)\n",
    "    # Output layer with linear activation\n",
    "    out_layer = tf.matmul(layer_2, weights['out']) + biases['out']\n",
    "    out_layer = tf.reshape(out_layer, [4])\n",
    "    return out_layer\n",
    "\n",
    "# Construct model\n",
    "model = multilayer_perceptron(x, weights, biases)"
   ]
  },
  {
   "cell_type": "code",
   "execution_count": 33,
   "metadata": {
    "collapsed": false
   },
   "outputs": [],
   "source": [
    "# loss\n",
    "sq_error = (y - model)**2\n",
    "loss = tf.reduce_mean(sq_error)"
   ]
  },
  {
   "cell_type": "code",
   "execution_count": 34,
   "metadata": {
    "collapsed": true
   },
   "outputs": [],
   "source": [
    "# optimizer\n",
    "optimizer = tf.train.GradientDescentOptimizer(0.01)\n",
    "train = optimizer.minimize(loss)"
   ]
  },
  {
   "cell_type": "code",
   "execution_count": 35,
   "metadata": {
    "collapsed": false
   },
   "outputs": [],
   "source": [
    "init = tf.global_variables_initializer()\n",
    "sess.run(init)\n",
    "for i in range(10000):\n",
    "    sess.run(train, {x: x_train, y: y_train})\n"
   ]
  },
  {
   "cell_type": "code",
   "execution_count": 36,
   "metadata": {
    "collapsed": false
   },
   "outputs": [
    {
     "data": {
      "text/plain": [
       "[<matplotlib.lines.Line2D at 0x11c4e6c88>]"
      ]
     },
     "execution_count": 36,
     "metadata": {},
     "output_type": "execute_result"
    },
    {
     "data": {
      "image/png": "[encoded data removed]",
      "text/plain": [
       "<matplotlib.figure.Figure at 0x11c330a20>"
      ]
     },
     "metadata": {},
     "output_type": "display_data"
    }
   ],
   "source": [
    "plt.plot(sess.run(model, {x: x_train, y: y_train})) # <3 <3"
   ]
  }
 ],
 "metadata": {
  "anaconda-cloud": {},
  "kernelspec": {
   "display_name": "Python [Root]",
   "language": "python",
   "name": "Python [Root]"
  },
  "language_info": {
   "codemirror_mode": {
    "name": "ipython",
    "version": 3
   },
   "file_extension": ".py",
   "mimetype": "text/x-python",
   "name": "python",
   "nbconvert_exporter": "python",
   "pygments_lexer": "ipython3",
   "version": "3.5.2"
  }
 },
 "nbformat": 4,
 "nbformat_minor": 0
}
